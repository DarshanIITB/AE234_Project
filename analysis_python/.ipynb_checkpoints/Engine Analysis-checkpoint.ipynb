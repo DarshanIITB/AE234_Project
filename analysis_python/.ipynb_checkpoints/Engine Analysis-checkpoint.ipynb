{
 "cells": [
  {
   "cell_type": "code",
   "execution_count": 2,
   "id": "1dd83032",
   "metadata": {},
   "outputs": [],
   "source": [
    "import numpy as np\n",
    "import matplotlib.pyplot as plt\n",
    "import pandas as pd\n",
    "import math"
   ]
  },
  {
   "cell_type": "code",
   "execution_count": 3,
   "id": "7be32d12",
   "metadata": {},
   "outputs": [],
   "source": [
    "def calculate_atm_params(cruise_alt):\n",
    "    isa = pd.read_csv(\"isa.csv\")\n",
    "    diff = cruise_alt % 500\n",
    "    h_floor = math.floor(cruise_alt/500)*500\n",
    "    h_ceil = math.ceil(cruise_alt/500)*500\n",
    "    prop_floor = np.array([isa[isa['Elevation'] == h_floor].Temperature, isa[isa['Elevation'] == h_floor].Pressure, isa[isa['Elevation'] == h_floor]['Relative Density']])\n",
    "    prop_ceil = np.array([isa[isa['Elevation'] == h_ceil].Temperature, isa[isa['Elevation'] == h_ceil].Pressure, isa[isa['Elevation'] == h_ceil]['Relative Density']])\n",
    "    prop = prop_floor + (prop_ceil - prop_floor)*(diff/500)\n",
    "    prop[1] *= 10e5\n",
    "    prop[2] *= 1.2985\n",
    "    return prop"
   ]
  },
  {
   "cell_type": "markdown",
   "id": "d3a2ecab",
   "metadata": {},
   "source": [
    "The normal cruise speed of the F-22 Raptor can vary depending on the specific mission and operating conditions, but it is typically around Mach 1.5 (1,150 mph or 1,850 km/h) at high altitude.\n",
    "\n",
    "The F-22 is designed for air superiority missions, and it is capable of flying at high speeds while maintaining maneuverability and stealth. Its maximum speed is classified, but it is believed to be around Mach 2.25 (1,500 mph or 2,410 km/h) at high altitude.\n",
    "\n",
    "The normal cruise altitude of the F-22 Raptor is around 40,000 to 50,000 feet (12,000 to 15,000 meters) instead of 50,000 to 60,000 feet.\n",
    "\n",
    "\n",
    "Sources:\n",
    "The official website of the U.S. Air Force states that the F-22 has a \"service ceiling\" of \"over 50,000 feet\" and a \"normal operating altitude\" of \"between 30,000 and 50,000 feet.\"\n",
    "(Source: https://www.af.mil/About-Us/Fact-Sheets/Display/Article/104507/f-22-raptor/)\n",
    "The official website of the U.S. Air Force states that the F-22 has a \"maximum speed greater than Mach 2.25\" and a \"cruise speed greater than Mach 1.5.\"\n",
    "(Source: https://www.af.mil/About-Us/Fact-Sheets/Display/Article/104507/f-22-raptor/)"
   ]
  },
  {
   "cell_type": "code",
   "execution_count": 64,
   "id": "dd6a6c84",
   "metadata": {},
   "outputs": [],
   "source": [
    "R = 287.1\n",
    "gamma = 1.4\n",
    "c_p = R*(gamma/(gamma-1))\n",
    "cruise_alt = 13500\n",
    "cruise_mach_no = 1.5\n",
    "T0, p0, rho0 = calculate_atm_params(cruise_alt)\n",
    "v0 = 1.5*np.sqrt(gamma*R*T0)\n",
    "M0 = cruise_mach_no"
   ]
  },
  {
   "cell_type": "markdown",
   "id": "bd1d90a9",
   "metadata": {},
   "source": [
    "Pressure Recovery Factor(PRF) = 0.95 to 0.99\n",
    "\n",
    "Adiabatic efficiency = 90-95%\n",
    "\n",
    "Source:\n",
    "\n",
    "1. \"Jet Propulsion: A Simple Guide to the Aerodynamics and Thermodynamic Design and Performance of Jet Engines\" by Nicholas Cumpsty and Andrew Heyes (2020): This textbook also provides an overview of gas turbine engines and their components, including inlets. According to the book, the typical PRF of modern aircraft inlets is around 0.95 to 0.99, while the typical adiabatic efficiency of the inlet ranges from 90% to 95%."
   ]
  },
  {
   "cell_type": "code",
   "execution_count": 53,
   "id": "246e400b",
   "metadata": {},
   "outputs": [
    {
     "name": "stdout",
     "output_type": "stream",
     "text": [
      "Mass Flow Rate: 107.92303161570958\n"
     ]
    }
   ],
   "source": [
    "inlet_diameter = 1.09\n",
    "r = inlet_diameter/2\n",
    "m_dot = rho0*v0*np.pi*r*r\n",
    "print(f\"Mass Flow Rate: {m_dot[0]}\")"
   ]
  },
  {
   "cell_type": "code",
   "execution_count": 54,
   "id": "d0c029c9",
   "metadata": {},
   "outputs": [],
   "source": [
    "n_d = 0.9\n",
    "prf = 0.95"
   ]
  },
  {
   "cell_type": "code",
   "execution_count": 55,
   "id": "49fa37ee",
   "metadata": {},
   "outputs": [],
   "source": [
    "def inlet(M0, p0, T0, n_d, prf):\n",
    "    p_t0 = p0*((1 + ((gamma-1)/2)*M0**2)**(gamma/(gamma-1)))\n",
    "    p_t1 = 0.95*p_t0\n",
    "    pi_d = p_t1/p0\n",
    "    tau_r = 1 + (((pi_d**((gamma-1)/gamma)) - 1)/n_d)\n",
    "    T_t0 = tau_r*T0\n",
    "    T_t1 = T_t0\n",
    "    return p_t1, T_t1"
   ]
  },
  {
   "cell_type": "code",
   "execution_count": 57,
   "id": "65efaa76",
   "metadata": {},
   "outputs": [
    {
     "name": "stdout",
     "output_type": "stream",
     "text": [
      "Compressor Inlet Total Pressure: 0.5346305454034954bar\n",
      "Compressor Inlet Total Temperature: 319.97076277081266K\n"
     ]
    }
   ],
   "source": [
    "p_t1, T_t1 = inlet(M0, p0, T0, n_d, pi_d)\n",
    "print(f\"Compressor Inlet Total Pressure: {p_t1[0]/10e5}bar\")\n",
    "print(f\"Compressor Inlet Total Temperature: {T_t1[0]}K\")"
   ]
  },
  {
   "cell_type": "code",
   "execution_count": 58,
   "id": "69778582",
   "metadata": {},
   "outputs": [],
   "source": [
    "def compressor(p_t1, T_t1, n_c, pi_c):\n",
    "    tau_c = 1 + (((pi_c)**((gamma-1)/gamma) - 1)/n_c)\n",
    "    p_t2 = pi_c*p_t1\n",
    "    T_t2 = tau_c*T_t1\n",
    "    return p_t2, T_t2"
   ]
  },
  {
   "cell_type": "markdown",
   "id": "948ede91",
   "metadata": {},
   "source": [
    "Low Pressure Compressor"
   ]
  },
  {
   "cell_type": "code",
   "execution_count": 59,
   "id": "af82161b",
   "metadata": {},
   "outputs": [],
   "source": [
    "n_c_l = 0.85\n",
    "pi_c_l = 3"
   ]
  },
  {
   "cell_type": "code",
   "execution_count": 61,
   "id": "f8c21786",
   "metadata": {},
   "outputs": [
    {
     "name": "stdout",
     "output_type": "stream",
     "text": [
      "High Pressure Compressor Inlet Total Pressure: 1.6038916362104862bar\n",
      "High Pressure Compressor Inlet Total Temperature: 458.77713129430737K\n"
     ]
    }
   ],
   "source": [
    "p_t2, T_t2 = compressor(p_t1, T_t1, n_c_l, pi_c_l)\n",
    "print(f\"High Pressure Compressor Inlet Total Pressure: {p_t2[0]/10e5}bar\")\n",
    "print(f\"High Pressure Compressor Inlet Total Temperature: {T_t2[0]}K\")"
   ]
  },
  {
   "cell_type": "markdown",
   "id": "7ce12662",
   "metadata": {},
   "source": [
    "High Pressure Compressor"
   ]
  },
  {
   "cell_type": "code",
   "execution_count": 62,
   "id": "844227d9",
   "metadata": {},
   "outputs": [],
   "source": [
    "n_c_h = 0.9\n",
    "pi_c_h = 25"
   ]
  },
  {
   "cell_type": "code",
   "execution_count": 63,
   "id": "a9f3d801",
   "metadata": {},
   "outputs": [
    {
     "name": "stdout",
     "output_type": "stream",
     "text": [
      "Burner Inlet Total Pressure: 40.097290905262156bar\n",
      "Burner Inlet Total Temperature: 1227.7307044934134K\n"
     ]
    }
   ],
   "source": [
    "p_t3, T_t3 = compressor(p_t2, T_t2, n_c_h, pi_c_h)\n",
    "print(f\"Burner Inlet Total Pressure: {p_t3[0]/10e5}bar\")\n",
    "print(f\"Burner Inlet Total Temperature: {T_t3[0]}K\")"
   ]
  },
  {
   "cell_type": "markdown",
   "id": "7eaecd08",
   "metadata": {},
   "source": [
    "Burner"
   ]
  },
  {
   "cell_type": "code",
   "execution_count": 71,
   "id": "b8403c66",
   "metadata": {},
   "outputs": [],
   "source": [
    "T_max = 1900\n",
    "Q_R = 43*10e6\n",
    "n_b = 0.45"
   ]
  },
  {
   "cell_type": "markdown",
   "id": "14390e28",
   "metadata": {},
   "source": [
    "Here, I am assuming that pressure drop is zero because of lack of value of $ \\pi_b$"
   ]
  },
  {
   "cell_type": "code",
   "execution_count": 75,
   "id": "0f0d46a3",
   "metadata": {},
   "outputs": [],
   "source": [
    "def burner(p_t0, T_t0, Q_R, n_b, T_max):\n",
    "    m_f_dot = m_dot*c_p*(T_max - T_t0)/(n_b*Q_R - c_p*T_max)\n",
    "    return m_f_dot"
   ]
  },
  {
   "cell_type": "code",
   "execution_count": 79,
   "id": "65b2a045",
   "metadata": {},
   "outputs": [
    {
     "name": "stdout",
     "output_type": "stream",
     "text": [
      "Rate of fuel burning: 0.3805257342326215 kg/s\n"
     ]
    }
   ],
   "source": [
    "T_t4 = T_max\n",
    "p_t4 = p_t3\n",
    "m_f_dot = burner(p_t3, T_t3, Q_R, n_b, T_max)\n",
    "print(f\"Rate of fuel burning: {m_f_dot[0]} kg/s\")"
   ]
  },
  {
   "cell_type": "markdown",
   "id": "6c1b6758",
   "metadata": {},
   "source": [
    "### Turbine"
   ]
  },
  {
   "cell_type": "code",
   "execution_count": 82,
   "id": "099b0829",
   "metadata": {},
   "outputs": [],
   "source": [
    "def turbine(p_t0, T_t0, pi_t, n_t):\n",
    "    tau_t = 1 - (n_t*(1 - (pi**((gamma-1)/gamma))))\n",
    "    T_t1 = tau_t*T_t0\n",
    "    p_t1 = pi_t*p_t0\n",
    "    return p_t1, T_t1"
   ]
  },
  {
   "cell_type": "code",
   "execution_count": null,
   "id": "f2cae553",
   "metadata": {},
   "outputs": [],
   "source": []
  }
 ],
 "metadata": {
  "kernelspec": {
   "display_name": "Python 3 (ipykernel)",
   "language": "python",
   "name": "python3"
  },
  "language_info": {
   "codemirror_mode": {
    "name": "ipython",
    "version": 3
   },
   "file_extension": ".py",
   "mimetype": "text/x-python",
   "name": "python",
   "nbconvert_exporter": "python",
   "pygments_lexer": "ipython3",
   "version": "3.9.13"
  }
 },
 "nbformat": 4,
 "nbformat_minor": 5
}
