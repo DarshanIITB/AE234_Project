{
 "cells": [
  {
   "cell_type": "code",
   "execution_count": 2,
   "id": "1dd83032",
   "metadata": {},
   "outputs": [],
   "source": [
    "import numpy as np\n",
    "import matplotlib.pyplot as plt\n",
    "import pandas as pd\n",
    "import math"
   ]
  },
  {
   "cell_type": "code",
   "execution_count": 3,
   "id": "7be32d12",
   "metadata": {},
   "outputs": [],
   "source": [
    "def calculate_atm_params(cruise_alt):\n",
    "    isa = pd.read_csv(\"isa.csv\")\n",
    "    diff = cruise_alt % 500\n",
    "    h_floor = math.floor(cruise_alt/500)*500\n",
    "    h_ceil = math.ceil(cruise_alt/500)*500\n",
    "    prop_floor = np.array([isa[isa['Elevation'] == h_floor].Temperature, isa[isa['Elevation'] == h_floor].Pressure, isa[isa['Elevation'] == h_floor]['Relative Density']])\n",
    "    prop_ceil = np.array([isa[isa['Elevation'] == h_ceil].Temperature, isa[isa['Elevation'] == h_ceil].Pressure, isa[isa['Elevation'] == h_ceil]['Relative Density']])\n",
    "    prop = prop_floor + (prop_ceil - prop_floor)*(diff/500)\n",
    "    prop[1] *= 10e5\n",
    "    prop[2] *= 1.2985\n",
    "    return prop"
   ]
  },
  {
   "cell_type": "markdown",
   "id": "d3a2ecab",
   "metadata": {},
   "source": [
    "The normal cruise speed of the F-22 Raptor can vary depending on the specific mission and operating conditions, but it is typically around Mach 1.5 (1,150 mph or 1,850 km/h) at high altitude.\n",
    "\n",
    "The F-22 is designed for air superiority missions, and it is capable of flying at high speeds while maintaining maneuverability and stealth. Its maximum speed is classified, but it is believed to be around Mach 2.25 (1,500 mph or 2,410 km/h) at high altitude.\n",
    "\n",
    "The normal cruise altitude of the F-22 Raptor is around 40,000 to 50,000 feet (12,000 to 15,000 meters) instead of 50,000 to 60,000 feet.\n",
    "\n",
    "\n",
    "Sources:\n",
    "The official website of the U.S. Air Force states that the F-22 has a \"service ceiling\" of \"over 50,000 feet\" and a \"normal operating altitude\" of \"between 30,000 and 50,000 feet.\"\n",
    "(Source: https://www.af.mil/About-Us/Fact-Sheets/Display/Article/104507/f-22-raptor/)\n",
    "The official website of the U.S. Air Force states that the F-22 has a \"maximum speed greater than Mach 2.25\" and a \"cruise speed greater than Mach 1.5.\"\n",
    "(Source: https://www.af.mil/About-Us/Fact-Sheets/Display/Article/104507/f-22-raptor/)"
   ]
  },
  {
   "cell_type": "code",
   "execution_count": 4,
   "id": "dd6a6c84",
   "metadata": {},
   "outputs": [],
   "source": [
    "R = 287.1\n",
    "gamma = 1.4\n",
    "gamma_g = 4/3\n",
    "c_p = R*(gamma/(gamma-1))\n",
    "c_p_g = R*(gamma_g/(gamma_g-1))\n",
    "cruise_alt = 13500\n",
    "cruise_mach_no = 1.5\n",
    "alpha = 0.3\n",
    "T0, p0, rho0 = calculate_atm_params(cruise_alt)\n",
    "v0 = 1.5*np.sqrt(gamma*R*T0)\n",
    "M0 = cruise_mach_no"
   ]
  },
  {
   "cell_type": "markdown",
   "id": "bd1d90a9",
   "metadata": {},
   "source": [
    "Pressure Recovery Factor(PRF) = 0.95 to 0.99\n",
    "\n",
    "Adiabatic efficiency = 90-95%\n",
    "\n",
    "Source:\n",
    "\n",
    "1. \"Jet Propulsion: A Simple Guide to the Aerodynamics and Thermodynamic Design and Performance of Jet Engines\" by Nicholas Cumpsty and Andrew Heyes (2020): This textbook also provides an overview of gas turbine engines and their components, including inlets. According to the book, the typical PRF of modern aircraft inlets is around 0.95 to 0.99, while the typical adiabatic efficiency of the inlet ranges from 90% to 95%."
   ]
  },
  {
   "cell_type": "code",
   "execution_count": 65,
   "id": "246e400b",
   "metadata": {},
   "outputs": [
    {
     "name": "stdout",
     "output_type": "stream",
     "text": [
      "Mass Flow Rate:  124.346 kg/s\n"
     ]
    }
   ],
   "source": [
    "inlet_diameter = 1.17\n",
    "r = inlet_diameter/2\n",
    "m_dot = rho0*v0*np.pi*r*r\n",
    "m_dot_core = m_dot/(1 + alpha)\n",
    "m_dot_bypass = m_dot - m_dot_core\n",
    "print(f\"Mass Flow Rate: \", \"{0:.3f}\".format(m_dot[0]), \"kg/s\")"
   ]
  },
  {
   "cell_type": "code",
   "execution_count": 6,
   "id": "d0c029c9",
   "metadata": {},
   "outputs": [],
   "source": [
    "n_d = 0.9\n",
    "prf = 0.95"
   ]
  },
  {
   "cell_type": "code",
   "execution_count": 7,
   "id": "49fa37ee",
   "metadata": {},
   "outputs": [],
   "source": [
    "def inlet(M0, p0, T0, n_d, prf):\n",
    "    p_t0 = p0*((1 + ((gamma-1)/2)*M0**2)**(gamma/(gamma-1)))\n",
    "    p_t1 = 0.95*p_t0\n",
    "    pi_d = p_t1/p0\n",
    "    tau_r = 1 + (((pi_d**((gamma-1)/gamma)) - 1)/n_d)\n",
    "    T_t0 = tau_r*T0\n",
    "    T_t1 = T_t0\n",
    "    return p_t1, T_t1, pi_d"
   ]
  },
  {
   "cell_type": "code",
   "execution_count": 67,
   "id": "65efaa76",
   "metadata": {},
   "outputs": [
    {
     "name": "stdout",
     "output_type": "stream",
     "text": [
      "Compressor Inlet Total Pressure: 0.535 bar\n",
      "Compressor Inlet Total Temperature: 319.971 K\n"
     ]
    }
   ],
   "source": [
    "p_t1, T_t1, pi_d = inlet(M0, p0, T0, n_d, prf)\n",
    "print(f\"Compressor Inlet Total Pressure:\", \"{0:.3f}\".format(p_t1[0]/10e5), \"bar\")\n",
    "print(f\"Compressor Inlet Total Temperature:\", \"{0:.3f}\".format(T_t1[0]), \"K\")"
   ]
  },
  {
   "cell_type": "code",
   "execution_count": 68,
   "id": "69778582",
   "metadata": {},
   "outputs": [],
   "source": [
    "def compressor(p_t1, T_t1, n_c, pi_c):\n",
    "    tau_c = 1 + (((pi_c)**((gamma-1)/gamma) - 1)/n_c)\n",
    "    p_t2 = pi_c*p_t1\n",
    "    T_t2 = tau_c*T_t1\n",
    "    return p_t2, T_t2"
   ]
  },
  {
   "cell_type": "markdown",
   "id": "948ede91",
   "metadata": {},
   "source": [
    "Low Pressure Compressor"
   ]
  },
  {
   "cell_type": "code",
   "execution_count": 69,
   "id": "af82161b",
   "metadata": {},
   "outputs": [],
   "source": [
    "n_c_l = 0.85\n",
    "pi_c_l = 3"
   ]
  },
  {
   "cell_type": "code",
   "execution_count": 73,
   "id": "f8c21786",
   "metadata": {},
   "outputs": [
    {
     "name": "stdout",
     "output_type": "stream",
     "text": [
      "High Pressure Compressor Inlet Total Pressure: 1.604 bar\n",
      "High Pressure Compressor Inlet Total Temperature: 458.777 K\n"
     ]
    }
   ],
   "source": [
    "p_t2, T_t2 = compressor(p_t1, T_t1, n_c_l, pi_c_l)\n",
    "print(f\"High Pressure Compressor Inlet Total Pressure:\", \"{0:.3f}\".format(p_t2[0]/10e5), \"bar\")\n",
    "print(f\"High Pressure Compressor Inlet Total Temperature:\", \"{0:.3f}\".format(T_t2[0]), \"K\")"
   ]
  },
  {
   "cell_type": "markdown",
   "id": "7ce12662",
   "metadata": {},
   "source": [
    "High Pressure Compressor"
   ]
  },
  {
   "cell_type": "code",
   "execution_count": 74,
   "id": "844227d9",
   "metadata": {},
   "outputs": [],
   "source": [
    "n_c_h = 0.9\n",
    "pi_c_h = 25/3"
   ]
  },
  {
   "cell_type": "code",
   "execution_count": 77,
   "id": "a9f3d801",
   "metadata": {},
   "outputs": [
    {
     "name": "stdout",
     "output_type": "stream",
     "text": [
      "Burner Inlet Total Pressure: 13.366 bar\n",
      "Burner Inlet Total Temperature: 883.247 K\n"
     ]
    }
   ],
   "source": [
    "p_t3, T_t3 = compressor(p_t2, T_t2, n_c_h, pi_c_h)\n",
    "print(f\"Burner Inlet Total Pressure:\", \"{0:.3f}\".format(p_t3[0]/10e5), \"bar\")\n",
    "print(f\"Burner Inlet Total Temperature:\", \"{0:.3f}\".format(T_t3[0]), \"K\")"
   ]
  },
  {
   "cell_type": "markdown",
   "id": "7eaecd08",
   "metadata": {},
   "source": [
    "### Burner"
   ]
  },
  {
   "cell_type": "code",
   "execution_count": 78,
   "id": "b8403c66",
   "metadata": {},
   "outputs": [],
   "source": [
    "T_max = 1922\n",
    "Q_R = 43*10e6\n",
    "n_b = 0.45\n",
    "press_loss = 0.04"
   ]
  },
  {
   "cell_type": "code",
   "execution_count": 79,
   "id": "0f0d46a3",
   "metadata": {},
   "outputs": [],
   "source": [
    "def burner(p_t0, T_t0, Q_R, n_b, T_max):\n",
    "    m_f_dot = m_dot_core*(c_p_g*T_max - c_p*T_t0)/(n_b*Q_R - c_p_g*T_max)\n",
    "    return m_f_dot"
   ]
  },
  {
   "cell_type": "code",
   "execution_count": 80,
   "id": "65b2a045",
   "metadata": {},
   "outputs": [
    {
     "name": "stdout",
     "output_type": "stream",
     "text": [
      "Rate of fuel burning: 0.660 kg/s\n",
      "Fuel-to-Air ratio: 0.690 %\n"
     ]
    }
   ],
   "source": [
    "T_t4 = T_max\n",
    "p_t4 = (1 - press_loss) * p_t3\n",
    "m_f_dot = burner(p_t3, T_t3, Q_R, n_b, T_max)\n",
    "print(f\"Rate of fuel burning:\", \"{0:.3f}\".format(m_f_dot[0]), \"kg/s\")\n",
    "print(f\"Fuel-to-Air ratio:\", \"{0:.3f}\".format((m_f_dot[0]/m_dot_core[0])*100), \"%\")"
   ]
  },
  {
   "cell_type": "markdown",
   "id": "6c1b6758",
   "metadata": {},
   "source": [
    "### Turbine"
   ]
  },
  {
   "cell_type": "code",
   "execution_count": 81,
   "id": "bcc49274",
   "metadata": {},
   "outputs": [],
   "source": [
    "n_t = 0.95"
   ]
  },
  {
   "cell_type": "code",
   "execution_count": 82,
   "id": "099b0829",
   "metadata": {},
   "outputs": [],
   "source": [
    "def turbine(p_t0, T_t0, n_t, T_c0, T_c1):\n",
    "    T_t1 = T_t0 - m_dot*((c_p*(T_c1 - T_c0))/(n_t*c_p_g*(m_dot + m_f_dot)))\n",
    "    pi_t = ((1 - (((T_t0 - T_t1)*n_t))/T_t0))**(gamma_g/(gamma_g-1))\n",
    "    p_t1 = p_t0*pi_t\n",
    "    return p_t1, T_t1"
   ]
  },
  {
   "cell_type": "code",
   "execution_count": 83,
   "id": "c3755745",
   "metadata": {},
   "outputs": [
    {
     "name": "stdout",
     "output_type": "stream",
     "text": [
      "Low Pressure Turbine Inlet Temperature: 1533.104 K\n",
      "Low Pressure Turbine Inlet Pressure: 5.463 bar\n"
     ]
    }
   ],
   "source": [
    "p_t5, T_t5 = turbine(p_t4, T_t4, n_t, T_t2, T_t3)\n",
    "print(f\"Low Pressure Turbine Inlet Temperature:\", \"{0:.3f}\".format(T_t5[0]), \"K\")\n",
    "print(f\"Low Pressure Turbine Inlet Pressure:\", \"{0:.3f}\".format(p_t5[0]/10e5), \"bar\")"
   ]
  },
  {
   "cell_type": "code",
   "execution_count": 84,
   "id": "191a3a41",
   "metadata": {},
   "outputs": [
    {
     "name": "stdout",
     "output_type": "stream",
     "text": [
      "Low Pressure Turbine Exit Temperature: 1405.931 K\n",
      "Low Pressure Turbine Exit Pressure: 3.934 bar\n"
     ]
    }
   ],
   "source": [
    "p_t6, T_t6 = turbine(p_t5, T_t5, n_t, T_t1, T_t2)\n",
    "print(f\"Low Pressure Turbine Exit Temperature:\", \"{0:.3f}\".format(T_t6[0]), \"K\")\n",
    "print(f\"Low Pressure Turbine Exit Pressure:\", \"{0:.3f}\".format(p_t6[0]/10e5), \"bar\")"
   ]
  },
  {
   "cell_type": "markdown",
   "id": "93d5b125",
   "metadata": {},
   "source": [
    "### Nozzle"
   ]
  },
  {
   "cell_type": "code",
   "execution_count": 85,
   "id": "ee9196d4",
   "metadata": {},
   "outputs": [],
   "source": [
    "n_n = 0.9"
   ]
  },
  {
   "cell_type": "code",
   "execution_count": 86,
   "id": "b8367d01",
   "metadata": {},
   "outputs": [],
   "source": [
    "def nozzle(p_t0, T_t0, n_n, p_a, gamma):\n",
    "    NPR = p_t6[0]/p0[0]\n",
    "    pi_n = ((NPR)**((gamma - 1)/gamma) - n_n*((NPR)**((gamma - 1)/gamma) - 1))**(-(gamma/(gamma - 1)))\n",
    "    p_t1 = p_t0 * pi_n\n",
    "    M = np.sqrt(((p_t1/p_a) - 1)*(2/(gamma - 1)))\n",
    "    T_1 = T_t0/(1 + ((gamma - 1)/2)*M*M)\n",
    "    a = np.sqrt(gamma*R*T_1)\n",
    "    V = M*a\n",
    "    return V"
   ]
  },
  {
   "cell_type": "code",
   "execution_count": 87,
   "id": "500df77e",
   "metadata": {},
   "outputs": [
    {
     "name": "stdout",
     "output_type": "stream",
     "text": [
      "Exit jet velocity: 1739.981 m/s\n"
     ]
    }
   ],
   "source": [
    "v_j = nozzle(p_t6, T_t6, n_n, p0, gamma_g)[0]\n",
    "print(f\"Exit jet velocity:\", \"{0:.3f}\".format(v_j), \"m/s\")"
   ]
  },
  {
   "cell_type": "code",
   "execution_count": 88,
   "id": "bca144e3",
   "metadata": {},
   "outputs": [
    {
     "name": "stdout",
     "output_type": "stream",
     "text": [
      "Thrust generated by core: 125.235 kN\n"
     ]
    }
   ],
   "source": [
    "thrust_core = (m_dot_core + m_f_dot)*v_j - m_dot_core*v0\n",
    "print(f\"Thrust generated by core:\", \"{0:.3f}\".format(thrust_core[0]/1e3), \"kN\")"
   ]
  },
  {
   "cell_type": "markdown",
   "id": "c24ad705",
   "metadata": {},
   "source": [
    "For bypass flow"
   ]
  },
  {
   "cell_type": "code",
   "execution_count": 89,
   "id": "176b4d5d",
   "metadata": {},
   "outputs": [],
   "source": [
    "v_b = nozzle(p_t2, T_t2, n_n, p0, gamma_g)[0]"
   ]
  },
  {
   "cell_type": "code",
   "execution_count": 90,
   "id": "3a9e0fe9",
   "metadata": {},
   "outputs": [
    {
     "name": "stdout",
     "output_type": "stream",
     "text": [
      "Thrust generated by bypass: 14.404 kN\n"
     ]
    }
   ],
   "source": [
    "thrust_bypass = m_dot_bypass*(v_b - v0)\n",
    "print(f\"Thrust generated by bypass:\", \"{0:.3f}\".format(thrust_bypass[0]/1e3), \"kN\")"
   ]
  },
  {
   "cell_type": "code",
   "execution_count": 91,
   "id": "f4ed3439",
   "metadata": {},
   "outputs": [
    {
     "name": "stdout",
     "output_type": "stream",
     "text": [
      "Total Thrust generated by the engine: 139.639 kN\n"
     ]
    }
   ],
   "source": [
    "thrust_total = thrust_bypass + thrust_core\n",
    "print(f\"Total Thrust generated by the engine:\", \"{0:.3f}\".format(thrust_total[0]/1e3), \"kN\")"
   ]
  }
 ],
 "metadata": {
  "kernelspec": {
   "display_name": "Python 3 (ipykernel)",
   "language": "python",
   "name": "python3"
  },
  "language_info": {
   "codemirror_mode": {
    "name": "ipython",
    "version": 3
   },
   "file_extension": ".py",
   "mimetype": "text/x-python",
   "name": "python",
   "nbconvert_exporter": "python",
   "pygments_lexer": "ipython3",
   "version": "3.9.13"
  }
 },
 "nbformat": 4,
 "nbformat_minor": 5
}
