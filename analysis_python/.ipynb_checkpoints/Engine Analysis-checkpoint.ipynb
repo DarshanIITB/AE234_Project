{
 "cells": [
  {
   "cell_type": "code",
   "execution_count": 2,
   "id": "1dd83032",
   "metadata": {},
   "outputs": [],
   "source": [
    "import numpy as np\n",
    "import matplotlib.pyplot as plt\n",
    "import pandas as pd\n",
    "import math"
   ]
  },
  {
   "cell_type": "code",
   "execution_count": 36,
   "id": "7be32d12",
   "metadata": {},
   "outputs": [],
   "source": [
    "def calculate_atm_params(cruise_alt):\n",
    "    isa = pd.read_csv(\"isa.csv\")\n",
    "    diff = cruise_alt % 500\n",
    "    h_floor = math.floor(cruise_alt/500)*500\n",
    "    h_ceil = math.ceil(cruise_alt/500)*500\n",
    "    prop_floor = np.array([isa[isa['Elevation'] == h_floor].Temperature, isa[isa['Elevation'] == h_floor].Pressure, isa[isa['Elevation'] == h_floor]['Relative Density']])\n",
    "    prop_ceil = np.array([isa[isa['Elevation'] == h_ceil].Temperature, isa[isa['Elevation'] == h_ceil].Pressure, isa[isa['Elevation'] == h_ceil]['Relative Density']])\n",
    "    prop = prop_floor + (prop_ceil - prop_floor)*(diff/500)\n",
    "    prop[1] *= 1e5\n",
    "    prop[2] *= 1.2985\n",
    "    return prop"
   ]
  },
  {
   "cell_type": "markdown",
   "id": "d3a2ecab",
   "metadata": {},
   "source": [
    "The normal cruise speed of the F-22 Raptor can vary depending on the specific mission and operating conditions, but it is typically around Mach 1.5 (1,150 mph or 1,850 km/h) at high altitude.\n",
    "\n",
    "The F-22 is designed for air superiority missions, and it is capable of flying at high speeds while maintaining maneuverability and stealth. Its maximum speed is classified, but it is believed to be around Mach 2.25 (1,500 mph or 2,410 km/h) at high altitude.\n",
    "\n",
    "The normal cruise altitude of the F-22 Raptor is around 40,000 to 50,000 feet (12,000 to 15,000 meters) instead of 50,000 to 60,000 feet.\n",
    "\n",
    "\n",
    "Sources:\n",
    "The official website of the U.S. Air Force states that the F-22 has a \"service ceiling\" of \"over 50,000 feet\" and a \"normal operating altitude\" of \"between 30,000 and 50,000 feet.\"\n",
    "(Source: https://www.af.mil/About-Us/Fact-Sheets/Display/Article/104507/f-22-raptor/)\n",
    "The official website of the U.S. Air Force states that the F-22 has a \"maximum speed greater than Mach 2.25\" and a \"cruise speed greater than Mach 1.5.\"\n",
    "(Source: https://www.af.mil/About-Us/Fact-Sheets/Display/Article/104507/f-22-raptor/)"
   ]
  },
  {
   "cell_type": "markdown",
   "id": "e2da30a0",
   "metadata": {},
   "source": [
    "#### Thermodynamic constants"
   ]
  },
  {
   "cell_type": "code",
   "execution_count": 37,
   "id": "1c9d77c1",
   "metadata": {},
   "outputs": [],
   "source": [
    "R = 287.1\n",
    "gamma = 1.4\n",
    "gamma_g = 4/3\n",
    "c_p = R*(gamma/(gamma-1))\n",
    "c_p_g = R*(gamma_g/(gamma_g-1))"
   ]
  },
  {
   "cell_type": "markdown",
   "id": "b0fb8bd6",
   "metadata": {},
   "source": [
    "#### Cruise Parameters"
   ]
  },
  {
   "cell_type": "code",
   "execution_count": 71,
   "id": "dd6a6c84",
   "metadata": {},
   "outputs": [],
   "source": [
    "cruise_alt = 15000\n",
    "cruise_mach_no = 1.5\n",
    "alpha = 0.3\n",
    "T0, p0, rho0 = calculate_atm_params(cruise_alt)\n",
    "v0 = 1.5*np.sqrt(gamma*R*T0)\n",
    "M0 = cruise_mach_no"
   ]
  },
  {
   "cell_type": "markdown",
   "id": "bd1d90a9",
   "metadata": {},
   "source": [
    "Pressure Recovery Factor(PRF) = 0.95 to 0.99\n",
    "\n",
    "Adiabatic efficiency = 90-95%\n",
    "\n",
    "Source:\n",
    "\n",
    "1. \"Jet Propulsion: A Simple Guide to the Aerodynamics and Thermodynamic Design and Performance of Jet Engines\" by Nicholas Cumpsty and Andrew Heyes (2020): This textbook also provides an overview of gas turbine engines and their components, including inlets. According to the book, the typical PRF of modern aircraft inlets is around 0.95 to 0.99, while the typical adiabatic efficiency of the inlet ranges from 90% to 95%."
   ]
  },
  {
   "cell_type": "code",
   "execution_count": 72,
   "id": "246e400b",
   "metadata": {},
   "outputs": [
    {
     "name": "stdout",
     "output_type": "stream",
     "text": [
      "Mass Flow Rate:  98.266 kg/s\n"
     ]
    }
   ],
   "source": [
    "inlet_diameter = 1.17\n",
    "r = inlet_diameter/2\n",
    "m_dot = rho0*v0*np.pi*r*r\n",
    "m_dot_core = m_dot/(1 + alpha)\n",
    "m_dot_bypass = m_dot - m_dot_core\n",
    "print(f\"Mass Flow Rate: \", \"{0:.3f}\".format(m_dot[0]), \"kg/s\")"
   ]
  },
  {
   "cell_type": "code",
   "execution_count": 84,
   "id": "d0c029c9",
   "metadata": {},
   "outputs": [],
   "source": [
    "n_d = 0.9"
   ]
  },
  {
   "cell_type": "code",
   "execution_count": 134,
   "id": "8dd03326",
   "metadata": {},
   "outputs": [
    {
     "data": {
      "text/plain": [
       "3.2875103959004863"
      ]
     },
     "execution_count": 134,
     "metadata": {},
     "output_type": "execute_result"
    }
   ],
   "source": [
    "(1 + (n_d*(gamma - 1)*M0**2/2))**(gamma/(gamma-1))"
   ]
  },
  {
   "cell_type": "code",
   "execution_count": 164,
   "id": "49fa37ee",
   "metadata": {},
   "outputs": [],
   "source": [
    "def inlet(M0, p0, T0, n_d):\n",
    "    pi_d = (1 + (n_d*(gamma - 1)*M0**2/2))**(gamma/(gamma-1))\n",
    "    p_t1 = p0*pi_d\n",
    "    T_t0 = T0*(1 + (((gamma - 1)/2)*M0*M0))\n",
    "    T_t1 = T_t0\n",
    "    return p_t1, T_t1, pi_d"
   ]
  },
  {
   "cell_type": "code",
   "execution_count": 165,
   "id": "65efaa76",
   "metadata": {},
   "outputs": [
    {
     "name": "stdout",
     "output_type": "stream",
     "text": [
      "Compressor Inlet Total Pressure: 0.040 bar\n",
      "Compressor Inlet Total Temperature: 314.215 K\n"
     ]
    }
   ],
   "source": [
    "p_t1, T_t1, pi_d = inlet(M0, p0, T0, n_d)\n",
    "print(f\"Compressor Inlet Total Pressure:\", \"{0:.3f}\".format(p_t1[0]/10e5), \"bar\")\n",
    "print(f\"Compressor Inlet Total Temperature:\", \"{0:.3f}\".format(T_t1[0]), \"K\")"
   ]
  },
  {
   "cell_type": "code",
   "execution_count": 167,
   "id": "69778582",
   "metadata": {},
   "outputs": [],
   "source": [
    "def compressor(p_t0, T_t0, n_c, pi_c):\n",
    "    T_t1 = T_t0*(1+((pi_c**((gamma-1)/gamma) - 1)/n_c))\n",
    "    p_t1 = p_t0*pi_c\n",
    "    return p_t1, T_t1"
   ]
  },
  {
   "cell_type": "markdown",
   "id": "948ede91",
   "metadata": {},
   "source": [
    "Low Pressure Compressor"
   ]
  },
  {
   "cell_type": "code",
   "execution_count": 168,
   "id": "af82161b",
   "metadata": {},
   "outputs": [],
   "source": [
    "n_c_l = 0.85\n",
    "pi_c_l = 3"
   ]
  },
  {
   "cell_type": "code",
   "execution_count": 169,
   "id": "f8c21786",
   "metadata": {},
   "outputs": [
    {
     "name": "stdout",
     "output_type": "stream",
     "text": [
      "High Pressure Compressor Inlet Total Pressure: 0.119 bar\n",
      "High Pressure Compressor Inlet Total Temperature: 450.524 K\n"
     ]
    }
   ],
   "source": [
    "p_t2, T_t2 = compressor(p_t1, T_t1, n_c_l, pi_c_l)\n",
    "print(f\"High Pressure Compressor Inlet Total Pressure:\", \"{0:.3f}\".format(p_t2[0]/10e5), \"bar\")\n",
    "print(f\"High Pressure Compressor Inlet Total Temperature:\", \"{0:.3f}\".format(T_t2[0]), \"K\")"
   ]
  },
  {
   "cell_type": "markdown",
   "id": "7ce12662",
   "metadata": {},
   "source": [
    "High Pressure Compressor"
   ]
  },
  {
   "cell_type": "code",
   "execution_count": 170,
   "id": "844227d9",
   "metadata": {},
   "outputs": [],
   "source": [
    "n_c_h = 0.9\n",
    "pi_c_h = 26.8/3"
   ]
  },
  {
   "cell_type": "code",
   "execution_count": 177,
   "id": "a9f3d801",
   "metadata": {},
   "outputs": [
    {
     "name": "stdout",
     "output_type": "stream",
     "text": [
      "Burner Inlet Total Pressure: 10.670 bar\n",
      "Burner Inlet Total Temperature: 885.765 K\n"
     ]
    }
   ],
   "source": [
    "p_t3, T_t3 = compressor(p_t2, T_t2, n_c_h, pi_c_h)\n",
    "print(f\"Burner Inlet Total Pressure:\", \"{0:.3f}\".format(p_t3[0]/1e5), \"bar\")\n",
    "print(f\"Burner Inlet Total Temperature:\", \"{0:.3f}\".format(T_t3[0]), \"K\")"
   ]
  },
  {
   "cell_type": "markdown",
   "id": "7eaecd08",
   "metadata": {},
   "source": [
    "### Burner"
   ]
  },
  {
   "cell_type": "code",
   "execution_count": 178,
   "id": "b8403c66",
   "metadata": {},
   "outputs": [],
   "source": [
    "T_max = 1922\n",
    "Q_R = 43*10e6\n",
    "n_b = 0.99\n",
    "press_loss = 0.04"
   ]
  },
  {
   "cell_type": "code",
   "execution_count": 179,
   "id": "0f0d46a3",
   "metadata": {},
   "outputs": [],
   "source": [
    "def burner(p_t0, T_t0, Q_R, n_b, T_max):\n",
    "    m_f_dot = m_dot_core*(c_p_g*T_max - c_p*T_t0)/(n_b*Q_R - c_p_g*T_max)\n",
    "    return m_f_dot"
   ]
  },
  {
   "cell_type": "code",
   "execution_count": 185,
   "id": "65b2a045",
   "metadata": {},
   "outputs": [
    {
     "name": "stdout",
     "output_type": "stream",
     "text": [
      "Turbine Inlet Total Pressure: 10.242767270099627 bar\n",
      "Turbine Inlet Total Temperature: 1922.000 K\n",
      "Rate of fuel burning: 0.235 kg/s\n",
      "Fuel-to-Air ratio: 0.311 %\n"
     ]
    }
   ],
   "source": [
    "T_t4 = T_max\n",
    "p_t4 = (1 - press_loss) * p_t3\n",
    "m_f_dot = burner(p_t3, T_t3, Q_R, n_b, T_max)\n",
    "print(f\"Turbine Inlet Total Pressure: {p_t4[0]/1e5} bar\")\n",
    "print(f\"Turbine Inlet Total Temperature:\", \"{0:.3f}\".format(T_t4), \"K\")\n",
    "print(f\"Rate of fuel burning:\", \"{0:.3f}\".format(m_f_dot[0]), \"kg/s\")\n",
    "print(f\"Fuel-to-Air ratio:\", \"{0:.3f}\".format((m_f_dot[0]/m_dot_core[0])*100), \"%\")"
   ]
  },
  {
   "cell_type": "markdown",
   "id": "6c1b6758",
   "metadata": {},
   "source": [
    "### Turbine"
   ]
  },
  {
   "cell_type": "code",
   "execution_count": 186,
   "id": "bcc49274",
   "metadata": {},
   "outputs": [],
   "source": [
    "n_t = 0.9"
   ]
  },
  {
   "cell_type": "code",
   "execution_count": 200,
   "id": "099b0829",
   "metadata": {},
   "outputs": [],
   "source": [
    "def turbine(p_t0, T_t0, n_t, T_c0, T_c1):\n",
    "    T_t1 = T_t0 - m_dot*((c_p*(T_c1 - T_c0))/(n_t*c_p_g*(m_dot + m_f_dot)))\n",
    "    pi_t = ((1 - (((T_t0 - T_t1)*n_t))/T_t0))**(gamma_g/(gamma_g-1))\n",
    "    p_t1 = p_t0*pi_t\n",
    "    return p_t1, T_t1"
   ]
  },
  {
   "cell_type": "code",
   "execution_count": 205,
   "id": "c3755745",
   "metadata": {},
   "outputs": [
    {
     "name": "stdout",
     "output_type": "stream",
     "text": [
      "Low Pressure Turbine Inlet Temperature: 1499.859 K\n",
      "Low Pressure Turbine Inlet Pressure: 4.244 bar\n"
     ]
    }
   ],
   "source": [
    "p_t5, T_t5 = turbine(p_t4, T_t4, n_t, T_t2, T_t3)\n",
    "print(f\"Low Pressure Turbine Inlet Temperature:\", \"{0:.3f}\".format(T_t5[0]), \"K\")\n",
    "print(f\"Low Pressure Turbine Inlet Pressure:\", \"{0:.3f}\".format(p_t5[0]/1e5), \"bar\")"
   ]
  },
  {
   "cell_type": "code",
   "execution_count": 206,
   "id": "191a3a41",
   "metadata": {},
   "outputs": [
    {
     "name": "stdout",
     "output_type": "stream",
     "text": [
      "Low Pressure Turbine Exit Temperature: 1367.652 K\n",
      "Low Pressure Turbine Exit Pressure: 3.050 bar\n"
     ]
    }
   ],
   "source": [
    "p_t6, T_t6 = turbine(p_t5, T_t5, n_t, T_t1, T_t2)\n",
    "print(f\"Low Pressure Turbine Exit Temperature:\", \"{0:.3f}\".format(T_t6[0]), \"K\")\n",
    "print(f\"Low Pressure Turbine Exit Pressure:\", \"{0:.3f}\".format(p_t6[0]/1e5), \"bar\")"
   ]
  },
  {
   "cell_type": "markdown",
   "id": "93d5b125",
   "metadata": {},
   "source": [
    "### Nozzle"
   ]
  },
  {
   "cell_type": "code",
   "execution_count": 190,
   "id": "ee9196d4",
   "metadata": {},
   "outputs": [],
   "source": [
    "n_n = 0.9"
   ]
  },
  {
   "cell_type": "code",
   "execution_count": 207,
   "id": "b8367d01",
   "metadata": {},
   "outputs": [],
   "source": [
    "def nozzle(p_t0, T_t0, n_n, p_a, gamma):\n",
    "    NPR = p_t0/p0[0]\n",
    "    pi_n = ((NPR)**((gamma - 1)/gamma) - n_n*((NPR)**((gamma - 1)/gamma) - 1))**(-(gamma/(gamma - 1)))\n",
    "    p_t1 = p_t0 * pi_n\n",
    "    M = np.sqrt(((p_t1/p_a) - 1)*(2/(gamma - 1)))\n",
    "    T_1 = T_t0/(1 + ((gamma - 1)/2)*M*M)\n",
    "    a = np.sqrt(gamma*R*T_1)\n",
    "    V = M*a\n",
    "    return V"
   ]
  },
  {
   "cell_type": "code",
   "execution_count": 208,
   "id": "500df77e",
   "metadata": {},
   "outputs": [
    {
     "name": "stdout",
     "output_type": "stream",
     "text": [
      "Exit jet velocity: 1715.259 m/s\n"
     ]
    }
   ],
   "source": [
    "v_j = nozzle(p_t6, T_t6, n_n, p0, gamma_g)[0]\n",
    "print(f\"Exit jet velocity:\", \"{0:.3f}\".format(v_j), \"m/s\")"
   ]
  },
  {
   "cell_type": "code",
   "execution_count": 209,
   "id": "bca144e3",
   "metadata": {},
   "outputs": [
    {
     "name": "stdout",
     "output_type": "stream",
     "text": [
      "Thrust generated by core: 96.595 kN\n"
     ]
    }
   ],
   "source": [
    "thrust_core = (m_dot_core + m_f_dot)*v_j - m_dot_core*v0\n",
    "print(f\"Thrust generated by core:\", \"{0:.3f}\".format(thrust_core[0]/1e3), \"kN\")"
   ]
  },
  {
   "cell_type": "markdown",
   "id": "c24ad705",
   "metadata": {},
   "source": [
    "For bypass flow"
   ]
  },
  {
   "cell_type": "code",
   "execution_count": 210,
   "id": "176b4d5d",
   "metadata": {},
   "outputs": [],
   "source": [
    "v_b = nozzle(p_t2, T_t2, n_n, p0, gamma_g)[0]"
   ]
  },
  {
   "cell_type": "code",
   "execution_count": 211,
   "id": "3a9e0fe9",
   "metadata": {},
   "outputs": [
    {
     "name": "stdout",
     "output_type": "stream",
     "text": [
      "Thrust generated by bypass: 11.396 kN\n"
     ]
    }
   ],
   "source": [
    "thrust_bypass = m_dot_bypass*(v_b - v0)\n",
    "print(f\"Thrust generated by bypass:\", \"{0:.3f}\".format(thrust_bypass[0]/1e3), \"kN\")"
   ]
  },
  {
   "cell_type": "code",
   "execution_count": 212,
   "id": "3d11805d",
   "metadata": {},
   "outputs": [
    {
     "name": "stdout",
     "output_type": "stream",
     "text": [
      "Total Thrust generated by the engine: 107.992 kN\n"
     ]
    }
   ],
   "source": [
    "thrust_total = thrust_bypass + thrust_core\n",
    "print(f\"Total Thrust generated by the engine:\", \"{0:.3f}\".format(thrust_total[0]/1e3), \"kN\")"
   ]
  },
  {
   "cell_type": "code",
   "execution_count": 213,
   "id": "1701d3f7",
   "metadata": {},
   "outputs": [
    {
     "name": "stdout",
     "output_type": "stream",
     "text": [
      "TSFC: 2.1770181084482956 g/kN-s\n"
     ]
    }
   ],
   "source": [
    "TSFC = m_f_dot/thrust_total\n",
    "print(f\"TSFC: {TSFC[0]/1e-6} g/kN-s\")"
   ]
  },
  {
   "cell_type": "code",
   "execution_count": 198,
   "id": "c6a2f934",
   "metadata": {},
   "outputs": [],
   "source": [
    "n_prop = 2*thrust_core*v0/(v_j**2 - v0**2)"
   ]
  },
  {
   "cell_type": "code",
   "execution_count": 199,
   "id": "fe9258ee",
   "metadata": {},
   "outputs": [
    {
     "data": {
      "text/plain": [
       "array([31.14334533])"
      ]
     },
     "execution_count": 199,
     "metadata": {},
     "output_type": "execute_result"
    }
   ],
   "source": [
    "n_prop"
   ]
  },
  {
   "cell_type": "code",
   "execution_count": 203,
   "id": "5bbd4770",
   "metadata": {},
   "outputs": [
    {
     "data": {
      "text/plain": [
       "(array([360050.30548644]), array([1169.94900542]))"
      ]
     },
     "execution_count": 203,
     "metadata": {},
     "output_type": "execute_result"
    }
   ],
   "source": [
    "turbine(10.4e5, 1550, 0.95, 297.84, 711.454)"
   ]
  },
  {
   "cell_type": "code",
   "execution_count": 204,
   "id": "72bfd07f",
   "metadata": {},
   "outputs": [
    {
     "data": {
      "text/plain": [
       "(array([316732.74874359]), array([1131.10902954]))"
      ]
     },
     "execution_count": 204,
     "metadata": {},
     "output_type": "execute_result"
    }
   ],
   "source": [
    "turbine(360050, 1169.949, 0.95, 255.57, 297.84)"
   ]
  },
  {
   "cell_type": "code",
   "execution_count": null,
   "id": "41822a6b",
   "metadata": {},
   "outputs": [],
   "source": []
  }
 ],
 "metadata": {
  "kernelspec": {
   "display_name": "Python 3 (ipykernel)",
   "language": "python",
   "name": "python3"
  },
  "language_info": {
   "codemirror_mode": {
    "name": "ipython",
    "version": 3
   },
   "file_extension": ".py",
   "mimetype": "text/x-python",
   "name": "python",
   "nbconvert_exporter": "python",
   "pygments_lexer": "ipython3",
   "version": "3.9.13"
  }
 },
 "nbformat": 4,
 "nbformat_minor": 5
}
